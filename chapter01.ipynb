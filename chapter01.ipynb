{
 "cells": [
  {
   "cell_type": "markdown",
   "source": [
    "# 第1章: 準備運動"
   ],
   "metadata": {}
  },
  {
   "cell_type": "markdown",
   "source": [
    "## 00. 文字列の逆順\r\n",
    "文字列”stressed”の文字を逆に（末尾から先頭に向かって）並べた文字列を得よ"
   ],
   "metadata": {}
  },
  {
   "cell_type": "code",
   "execution_count": 13,
   "source": [
    "text = 'stressed'\r\n",
    "ans = text[::-1]\r\n",
    "\r\n",
    "print(ans)"
   ],
   "outputs": [
    {
     "output_type": "stream",
     "name": "stdout",
     "text": [
      "desserts\n"
     ]
    }
   ],
   "metadata": {}
  },
  {
   "cell_type": "markdown",
   "source": [
    "## 01. 「パタトクカシーー」\r\n",
    "「パタトクカシーー」という文字列の1,3,5,7文字目を取り出して連結した文字列を得よ．"
   ],
   "metadata": {}
  },
  {
   "cell_type": "code",
   "execution_count": 14,
   "source": [
    "text = 'パタトクカシーー'\r\n",
    "ans = text[:7:2]\r\n",
    "\r\n",
    "print(ans)"
   ],
   "outputs": [
    {
     "output_type": "stream",
     "name": "stdout",
     "text": [
      "パトカー\n"
     ]
    }
   ],
   "metadata": {}
  },
  {
   "cell_type": "markdown",
   "source": [
    "## 02. 「パトカー」＋「タクシー」＝「パタトクカシーー」\r\n",
    "「パトカー」＋「タクシー」の文字を先頭から交互に連結して文字列「パタトクカシーー」を得よ．"
   ],
   "metadata": {}
  },
  {
   "cell_type": "code",
   "execution_count": 32,
   "source": [
    "text1 = 'パトカー'\r\n",
    "text2 = 'タクシー'\r\n",
    "\r\n",
    "# pattern1\r\n",
    "pat1 = ''\r\n",
    "for t1, t2 in zip(text1, text2):\r\n",
    "    pat1 += t1 + t2\r\n",
    "\r\n",
    "# pattern2\r\n",
    "pat2 = ''.join([i + j for i, j in zip(text1, text2)])\r\n",
    "\r\n",
    "ans = pat1\r\n",
    "print(ans)"
   ],
   "outputs": [
    {
     "output_type": "stream",
     "name": "stdout",
     "text": [
      "パタトクカシーー\n"
     ]
    }
   ],
   "metadata": {}
  },
  {
   "cell_type": "markdown",
   "source": [
    "## 03. 円周率\r\n",
    "“Now I need a drink, alcoholic of course, after the heavy lectures involving quantum mechanics.”という文を単語に分解し，各単語の（アルファベットの）文字数を先頭から出現順に並べたリストを作成せよ．"
   ],
   "metadata": {}
  },
  {
   "cell_type": "code",
   "execution_count": 35,
   "source": [
    "text = 'Now I need a drink, alcoholic of course, after the heavy lectures involving quantum mechanics.'\r\n",
    "ans = [len(i.strip(',.')) for i in text.split()]\r\n",
    "\r\n",
    "print(ans)\r\n"
   ],
   "outputs": [
    {
     "output_type": "stream",
     "name": "stdout",
     "text": [
      "[3, 1, 4, 1, 5, 9, 2, 6, 5, 3, 5, 8, 9, 7, 9]\n"
     ]
    }
   ],
   "metadata": {}
  },
  {
   "cell_type": "markdown",
   "source": [
    "## 04. 元素記号\r\n",
    "“Hi He Lied Because Boron Could Not Oxidize Fluorine. New Nations Might Also Sign Peace Security Clause. Arthur King Can.”という文を単語に分解し，1, 5, 6, 7, 8, 9, 15, 16, 19番目の単語は先頭の1文字，それ以外の単語は先頭の2文字を取り出し，取り出した文字列から単語の位置（先頭から何番目の単語か）への連想配列（辞書型もしくはマップ型）を作成せよ．"
   ],
   "metadata": {}
  },
  {
   "cell_type": "code",
   "execution_count": 47,
   "source": [
    "text = 'Hi He Lied Because Boron Could Not Oxidize Fluorine. New Nations Might Also Sign Peace Security Clause. Arthur King Can.'\r\n",
    "splits = text.split()\r\n",
    "\r\n",
    "ans = {}\r\n",
    "for i, word in enumerate(splits):\r\n",
    "    if i + 1 in [1, 5, 6, 7, 8, 9, 15, 16, 19]:\r\n",
    "        ans[word[:1:]] = i + 1\r\n",
    "    else:\r\n",
    "        ans[word[:2:]] = i + 1\r\n",
    "\r\n",
    "print(ans)"
   ],
   "outputs": [
    {
     "output_type": "stream",
     "name": "stdout",
     "text": [
      "{'H': 1, 'He': 2, 'Li': 3, 'Be': 4, 'B': 5, 'C': 6, 'N': 7, 'O': 8, 'F': 9, 'Ne': 10, 'Na': 11, 'Mi': 12, 'Al': 13, 'Si': 14, 'P': 15, 'S': 16, 'Cl': 17, 'Ar': 18, 'K': 19, 'Ca': 20}\n"
     ]
    }
   ],
   "metadata": {}
  }
 ],
 "metadata": {
  "orig_nbformat": 4,
  "language_info": {
   "name": "python",
   "version": "3.8.5",
   "mimetype": "text/x-python",
   "codemirror_mode": {
    "name": "ipython",
    "version": 3
   },
   "pygments_lexer": "ipython3",
   "nbconvert_exporter": "python",
   "file_extension": ".py"
  },
  "kernelspec": {
   "name": "python3",
   "display_name": "Python 3.8.5 64-bit ('base': conda)"
  },
  "interpreter": {
   "hash": "fafad77e426bb69bca0b455c3e69a3eddda8a3dd0b8325560ec9cfecf3e3c812"
  }
 },
 "nbformat": 4,
 "nbformat_minor": 2
}